{
 "cells": [
  {
   "cell_type": "markdown",
   "metadata": {},
   "source": [
    "# 2 Create Dataset with Food-5k, PASCAL, Food-101"
   ]
  },
  {
   "cell_type": "code",
   "execution_count": 3,
   "metadata": {},
   "outputs": [],
   "source": [
    "import numpy as np\n",
    "from skimage import io, transform\n",
    "import os\n",
    "from tqdm import tqdm\n",
    "from sklearn.utils import shuffle\n",
    "import matplotlib.pyplot as plt\n",
    "%matplotlib inline"
   ]
  },
  {
   "cell_type": "code",
   "execution_count": 4,
   "metadata": {},
   "outputs": [],
   "source": [
    "TARGET_SIZE = (499, 499, 3)"
   ]
  },
  {
   "cell_type": "code",
   "execution_count": 9,
   "metadata": {},
   "outputs": [
    {
     "name": "stderr",
     "output_type": "stream",
     "text": [
      "  0%|          | 0/3000 [00:00<?, ?it/s]/Library/Frameworks/Python.framework/Versions/3.6/lib/python3.6/site-packages/skimage/transform/_warps.py:84: UserWarning: The default mode, 'constant', will be changed to 'reflect' in skimage 0.15.\n",
      "  warn(\"The default mode, 'constant', will be changed to 'reflect' in \"\n",
      "100%|██████████| 3000/3000 [02:56<00:00, 16.96it/s]\n",
      "  0%|          | 2/3000 [00:00<03:08, 15.92it/s]"
     ]
    },
    {
     "name": "stdout",
     "output_type": "stream",
     "text": [
      "Food-5K Dataset\n",
      "X_train_3.shape: 2992\n",
      "y_train_3.shape: 2992\n"
     ]
    },
    {
     "name": "stderr",
     "output_type": "stream",
     "text": [
      "100%|██████████| 3000/3000 [02:13<00:00, 22.49it/s]\n"
     ]
    },
    {
     "name": "stdout",
     "output_type": "stream",
     "text": [
      "Image number: (Food-5K + PASCAL Dataset)\n",
      "X_train_3.shape: 5984\n",
      "X_train_3.shape: 5984\n",
      "Total image number: (Food-5K + PASCAL Dataset + Food-101)\n",
      "X_train_3.shape: 15984\n",
      "X_train_3.shape: 15984\n"
     ]
    }
   ],
   "source": [
    "# * Training set generation for 3 datasets *\n",
    "\n",
    "## 1. Food-5K\n",
    "f_root = '/Volumes/JS/Food-5K/training'\n",
    "f_train = [os.path.join(f_root, f) for f in os.listdir(f_root) if f.endswith('.jpg')]\n",
    "\n",
    "# Read the images\n",
    "X_train_3, y_train_3 = [], []\n",
    "for f_im in tqdm(f_train):\n",
    "    im = io.imread(f_im)\n",
    "    if len(im.shape) == 3:\n",
    "        im = transform.resize(im, output_shape=TARGET_SIZE)\n",
    "        im = (im * 255.0).astype(np.uint8)\n",
    "        X_train_3.append(im)\n",
    "        y_train_3.append(int(os.path.basename(f_im)[0]))\n",
    "# X_train = np.array(X_train)\n",
    "# y_train = np.array(y_train)\n",
    "print('Food-5K Dataset')\n",
    "print('X_train_3.shape:', len(X_train_3))\n",
    "print('y_train_3.shape:', len(y_train_3))\n",
    "\n",
    "## 2. PASCAL dataset with label all negative (non-food)\n",
    "pascal_2011 = '/Volumes/JS/PASCAL2012/VOCdevkit/VOC2012/training'\n",
    "pascal_train = [os.path.join(f_root, f) for f in os.listdir(f_root) if f.endswith('.jpg')]\n",
    "\n",
    "# Read the images\n",
    "for pascal_im in tqdm(pascal_train):\n",
    "    im = io.imread(pascal_im)\n",
    "    if len(im.shape) == 3:\n",
    "        im = transform.resize(im, output_shape=TARGET_SIZE)\n",
    "        im = (im * 255.0).astype(np.uint8)\n",
    "        X_train_3.append(im)\n",
    "        y_train_3.append(int(0))\n",
    "\n",
    "print('Image number: (Food-5K + PASCAL Dataset)')\n",
    "print('X_train_3.shape:', len(X_train_3))\n",
    "print('X_train_3.shape:', len(y_train_3))\n",
    "\n",
    "## 3. Food-101 dataset with label all positive (food)\n",
    "food101_txt_path = '/Volumes/JS/food-101/meta'\n",
    "food101_img_path = '/Volumes/JS/food-101/images'\n",
    "\n",
    "# Read the .txt file to get the image path \n",
    "with open(food101_txt_path + '/' + 'train_split.txt', 'r') as train_split:\n",
    "    for i, line in enumerate(train_split):\n",
    "        if i < 10000:\n",
    "            line = line.strip('\\n')\n",
    "            line = line.split('/')\n",
    "            img_path = food101_img_path + '/' + line[0] + '/' + line[1] + '.jpg'\n",
    "            im = io.imread(img_path)\n",
    "            if len(im.shape) == 3:\n",
    "                im = transform.resize(im, output_shape=TARGET_SIZE)\n",
    "                im = (im * 255.0).astype(np.uint8)\n",
    "                X_train_3.append(im)\n",
    "                y_train_3.append(int(1))\n",
    "\n",
    "print('Total image number: (Food-5K + PASCAL Dataset + Food-101)')\n",
    "print('X_train_3.shape:', len(X_train_3))\n",
    "print('X_train_3.shape:', len(y_train_3))\n",
    "\n",
    "# Convert np array to .npy file            \n",
    "X_train_3 = np.array(X_train_3)\n",
    "y_train_3 = np.array(y_train_3)\n",
    "np.save('./data/X_train_3.npy', X_train_3)\n",
    "np.save('./data/y_train_3.npy', y_train_3)"
   ]
  },
  {
   "cell_type": "code",
   "execution_count": 10,
   "metadata": {},
   "outputs": [
    {
     "name": "stderr",
     "output_type": "stream",
     "text": [
      "  0%|          | 0/1000 [00:00<?, ?it/s]/Library/Frameworks/Python.framework/Versions/3.6/lib/python3.6/site-packages/skimage/transform/_warps.py:84: UserWarning: The default mode, 'constant', will be changed to 'reflect' in skimage 0.15.\n",
      "  warn(\"The default mode, 'constant', will be changed to 'reflect' in \"\n",
      "100%|██████████| 1000/1000 [00:56<00:00, 17.75it/s]\n",
      "  0%|          | 2/3000 [00:00<03:27, 14.48it/s]"
     ]
    },
    {
     "name": "stdout",
     "output_type": "stream",
     "text": [
      "Food-5K Dataset\n",
      "X_val_3.shape: 997\n",
      "y_val_3.shape: 997\n"
     ]
    },
    {
     "name": "stderr",
     "output_type": "stream",
     "text": [
      "100%|██████████| 3000/3000 [03:13<00:00, 15.53it/s]\n"
     ]
    },
    {
     "name": "stdout",
     "output_type": "stream",
     "text": [
      "Image number: (Food-5K + PASCAL Dataset)\n",
      "X_val_3.shape: 3989\n",
      "y_val_3.shape: 3989\n",
      "Total image number: (Food-5K + PASCAL Dataset + Food-101)\n",
      "X_val_3.shape: 5988\n",
      "y_val_3.shape: 5988\n"
     ]
    }
   ],
   "source": [
    "# * Validation *\n",
    "# Filenames\n",
    "f_root = '/Volumes/JS/Food-5K/validation/'\n",
    "f_val = [os.path.join(f_root, f) for f in os.listdir(f_root) if f.endswith('.jpg')]\n",
    "\n",
    "# Read the images\n",
    "X_val_3, y_val_3 = [], []\n",
    "for f_im in tqdm(f_val):\n",
    "    im = io.imread(f_im)\n",
    "    if len(im.shape) == 3:\n",
    "        im = transform.resize(im, output_shape=TARGET_SIZE)\n",
    "        im = (im * 255.0).astype(np.uint8)\n",
    "        X_val_3.append(im)\n",
    "        y_val_3.append(int(os.path.basename(f_im)[0]))\n",
    "        \n",
    "print('Food-5K Dataset')\n",
    "print('X_val_3.shape:', len(X_val_3))\n",
    "print('y_val_3.shape:', len(y_val_3))\n",
    "\n",
    "## 2. PASCAL dataset with label all negative (non-food)\n",
    "pascal_2011 = '/Volumes/JS/PASCAL2012/VOCdevkit/VOC2012/validation'\n",
    "pascal_val = [os.path.join(f_root, f) for f in os.listdir(f_root) if f.endswith('.jpg')]\n",
    "\n",
    "# Read the images\n",
    "for pascal_im in tqdm(pascal_train):\n",
    "    im = io.imread(pascal_im)\n",
    "    if len(im.shape) == 3:\n",
    "        im = transform.resize(im, output_shape=TARGET_SIZE)\n",
    "        im = (im * 255.0).astype(np.uint8)\n",
    "        X_val_3.append(im)\n",
    "        y_val_3.append(0)\n",
    "\n",
    "print('Image number: (Food-5K + PASCAL Dataset)')\n",
    "print('X_val_3.shape:', len(X_val_3))\n",
    "print('y_val_3.shape:', len(y_val_3))\n",
    "\n",
    "## 3. Food-101 dataset with label all positive (food)\n",
    "food101_txt_path = '/Volumes/JS/food-101/meta'\n",
    "food101_img_path = '/Volumes/JS/food-101/images'\n",
    "\n",
    "# Read the .txt file to get the image path \n",
    "with open(food101_txt_path + '/' + 'val_split.txt', 'r') as train_split:\n",
    "    for i, line in enumerate(train_split):\n",
    "        if i < 2000:\n",
    "            line = line.strip('\\n')\n",
    "            line = line.split('/')\n",
    "            img_path = food101_img_path + '/' + line[0] + '/' + line[1] + '.jpg'\n",
    "            im = io.imread(img_path)\n",
    "            if len(im.shape) == 3:\n",
    "                im = transform.resize(im, output_shape=TARGET_SIZE)\n",
    "                im = (im * 255.0).astype(np.uint8)\n",
    "                X_val_3.append(im)\n",
    "                y_val_3.append(1)\n",
    "\n",
    "print('Total image number: (Food-5K + PASCAL Dataset + Food-101)')\n",
    "print('X_val_3.shape:', len(X_val_3))\n",
    "print('y_val_3.shape:', len(y_val_3))\n",
    "\n",
    "# Convert np array to .npy file            \n",
    "X_train_3 = np.array(X_val_3)\n",
    "y_train_3 = np.array(y_val_3)\n",
    "np.save('./data/X_val_3.npy', X_val_3)\n",
    "np.save('./data/y_val_3.npy', y_val_3)"
   ]
  },
  {
   "cell_type": "code",
   "execution_count": 13,
   "metadata": {},
   "outputs": [
    {
     "name": "stderr",
     "output_type": "stream",
     "text": [
      "  0%|          | 0/1000 [00:00<?, ?it/s]/Library/Frameworks/Python.framework/Versions/3.6/lib/python3.6/site-packages/skimage/transform/_warps.py:84: UserWarning: The default mode, 'constant', will be changed to 'reflect' in skimage 0.15.\n",
      "  warn(\"The default mode, 'constant', will be changed to 'reflect' in \"\n",
      "100%|██████████| 1000/1000 [01:45<00:00,  9.52it/s]\n",
      "  0%|          | 1/3000 [00:00<06:04,  8.23it/s]"
     ]
    },
    {
     "name": "stdout",
     "output_type": "stream",
     "text": [
      "Food-5K Dataset\n",
      "X_test_3.shape: 1000\n",
      "y_test_3.shape: 1000\n"
     ]
    },
    {
     "name": "stderr",
     "output_type": "stream",
     "text": [
      "100%|██████████| 3000/3000 [03:17<00:00, 15.17it/s]\n"
     ]
    },
    {
     "name": "stdout",
     "output_type": "stream",
     "text": [
      "Image number: (Food-5K + PASCAL Dataset)\n",
      "X_test_3.shape: 3992\n",
      "y_test_3.shape: 3992\n",
      "X_test_3.shape: 5991\n",
      "y_test_3.shape: 5991\n"
     ]
    }
   ],
   "source": [
    "# * Evaluation *\n",
    "# Filenames\n",
    "f_root = '/Volumes/JS/Food-5K/evaluation/'\n",
    "f_test = [os.path.join(f_root, f) for f in os.listdir(f_root) if f.endswith('.jpg')]\n",
    "\n",
    "# Read the images\n",
    "X_test_3, y_test_3 = [], []\n",
    "for f_im in tqdm(f_test):\n",
    "    im = io.imread(f_im)\n",
    "    if len(im.shape) == 3:\n",
    "        im = transform.resize(im, output_shape=TARGET_SIZE)\n",
    "        im = (im * 255.0).astype(np.uint8)\n",
    "        X_test_3.append(im)\n",
    "        y_test_3.append(int(os.path.basename(f_im)[0]))\n",
    "\n",
    "print('Food-5K Dataset')\n",
    "print('X_test_3.shape:', len(X_test_3))\n",
    "print('y_test_3.shape:', len(y_test_3))        \n",
    "        \n",
    "## 2. PASCAL dataset with label all negative (non-food)\n",
    "pascal_2011 = '/Volumes/JS/PASCAL2012/VOCdevkit/VOC2012/evaluation'\n",
    "pascal_test = [os.path.join(f_root, f) for f in os.listdir(f_root) if f.endswith('.jpg')]\n",
    "\n",
    "# Read the images\n",
    "for pascal_im in tqdm(pascal_train):\n",
    "    im = io.imread(pascal_im)\n",
    "    if len(im.shape) == 3:\n",
    "        im = transform.resize(im, output_shape=TARGET_SIZE)\n",
    "        im = (im * 255.0).astype(np.uint8)\n",
    "        X_test_3.append(im)\n",
    "        y_test_3.append(0)\n",
    "\n",
    "print('Image number: (Food-5K + PASCAL Dataset)')\n",
    "print('X_test_3.shape:', len(X_test_3))\n",
    "print('y_test_3.shape:', len(y_test_3))\n",
    "\n",
    "## 3. Food-101 dataset with label all positive (food)\n",
    "food101_txt_path = '/Volumes/JS/food-101/meta'\n",
    "food101_img_path = '/Volumes/JS/food-101/images'\n",
    "\n",
    "# Read the .txt file to get the image path \n",
    "with open(food101_txt_path + '/' + 'val_split.txt', 'r') as train_split:\n",
    "    for i, line in enumerate(train_split):\n",
    "        if i < 2000:\n",
    "            line = line.strip('\\n')\n",
    "            line = line.split('/')\n",
    "            img_path = food101_img_path + '/' + line[0] + '/' + line[1] + '.jpg'\n",
    "            im = io.imread(img_path)\n",
    "            if len(im.shape) == 3:\n",
    "                im = transform.resize(im, output_shape=TARGET_SIZE)\n",
    "                im = (im * 255.0).astype(np.uint8)\n",
    "                X_test_3.append(im)\n",
    "                y_test_3.append(1)\n",
    "\n",
    "print('Total image number: Food-5K + PASCAL + Food-101')\n",
    "print('X_test_3.shape:', len(X_test_3))\n",
    "print('y_test_3.shape:', len(y_test_3))\n",
    "np.save('./data/X_test_3.npy', X_test_3)\n",
    "np.save('./data/y_test_3.npy', y_test_3)"
   ]
  },
  {
   "cell_type": "markdown",
   "metadata": {},
   "source": [
    "## A Snippet of code used to save food-101 dataset to .npy file"
   ]
  },
  {
   "cell_type": "code",
   "execution_count": null,
   "metadata": {},
   "outputs": [],
   "source": [
    "from skimage import io, transform\n",
    "import numpy as np\n",
    "import os\n",
    "\n",
    "\n",
    "# Training set\n",
    "TARGET_SIZE = (499, 499, 3)\n",
    "X_train_2 = []\n",
    "y_train_2 = []\n",
    "food101_txt_path = '/Volumes/JS/food-101/meta'\n",
    "food101_img_path = '/Volumes/JS/food-101/images'\n",
    "with open(food101_txt_path + '/' + 'train_split.txt', 'r') as train_split:\n",
    "    for i, line in enumerate(train_split):\n",
    "        line = line.strip('\\n')\n",
    "        line = line.split('/')\n",
    "        img_path = food101_img_path + '/' + line[0] + '/' + line[1] + '.jpg'\n",
    "        im = io.imread(img_path)\n",
    "        if len(im.shape) == 3:\n",
    "            im = transform.resize(im, output_shape=TARGET_SIZE)\n",
    "            im = (im * 255.0).astype(np.uint8)\n",
    "            X_train_2.append(im)\n",
    "            y_train_2.append(0)"
   ]
  },
  {
   "cell_type": "code",
   "execution_count": null,
   "metadata": {},
   "outputs": [],
   "source": []
  }
 ],
 "metadata": {
  "kernelspec": {
   "display_name": "Python 3",
   "language": "python",
   "name": "python3"
  },
  "language_info": {
   "codemirror_mode": {
    "name": "ipython",
    "version": 3
   },
   "file_extension": ".py",
   "mimetype": "text/x-python",
   "name": "python",
   "nbconvert_exporter": "python",
   "pygments_lexer": "ipython3",
   "version": "3.6.4"
  }
 },
 "nbformat": 4,
 "nbformat_minor": 2
}
