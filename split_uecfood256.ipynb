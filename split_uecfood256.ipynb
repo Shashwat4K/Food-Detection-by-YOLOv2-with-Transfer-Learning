{
 "cells": [
  {
   "cell_type": "markdown",
   "metadata": {},
   "source": [
    "# split_uecfood256"
   ]
  },
  {
   "cell_type": "markdown",
   "metadata": {},
   "source": [
    "- Split UECFOOD256 dataset to training, val, testing sets with ratio 0.7, 0.2, 0.1\n",
    "- Save img_dir, category_id, x1, y1, x2, y2 into txt file under train_uec256.txt, val_uec256.txt and test_uec256.txt."
   ]
  },
  {
   "cell_type": "code",
   "execution_count": 4,
   "metadata": {
    "collapsed": true
   },
   "outputs": [],
   "source": [
    "import random\n",
    "import itertools\n",
    "import numpy as np"
   ]
  },
  {
   "cell_type": "code",
   "execution_count": 7,
   "metadata": {
    "collapsed": true
   },
   "outputs": [],
   "source": [
    "def split_dataset():\n",
    "    dataset_disk = '/Volumes/JS/'\n",
    "    uecfood256_path = dataset_disk + 'UECFOOD256/' + 'UECFOOD256'\n",
    "    category = 'category.txt'\n",
    "    bbox_info = 'bb_info.txt'\n",
    "\n",
    "    split = [0.7, 0.2, 0.1]\n",
    "    files_generated = ['train_uec256.txt', 'val_uec256.txt', 'test_uec256.txt']\n",
    "\n",
    "    \"\"\" Put first column (id) and second column (name) from category.txt into two lists \"\"\"\n",
    "    category_ids = []\n",
    "    category_names = []\n",
    "    with open(uecfood256_path + '/' + category, 'r') as category_list:\n",
    "        for i, line in enumerate(category_list):\n",
    "            if i > 0:\n",
    "                line = line.rstrip('\\n')  # delete \\n in the end of the line\n",
    "                line = line.split('\\t')\n",
    "                category_ids.append(int(line[0]))\n",
    "                category_names.append(line[1])\n",
    "\n",
    "    \"\"\" Read bb_info.txt based on category id \"\"\" \n",
    "    category_images = []\n",
    "    category_bbox = []\n",
    "    for id_index, id in enumerate(category_ids):\n",
    "        category_images.append([])\n",
    "        category_bbox.append([])\n",
    "        with open(uecfood256_path + '/' + str(id) + '/' + bbox_info, 'r') as bbox_list:\n",
    "            for i, line in enumerate(bbox_list):\n",
    "                if i > 0:\n",
    "                    line = line.rstrip('\\n')\n",
    "                    line = line.split(' ')\n",
    "                    category_images[id_index].append(line[0])\n",
    "                    category_bbox[id_index].append(list(map(float, line[1:])))\n",
    "\n",
    "    \"\"\" Split categories to train/val/test with ratio define before \"\"\"\n",
    "    train_uec256 = []\n",
    "    val_uec256 = []\n",
    "    test_uec256 = []\n",
    "    for id_index, id in enumerate(category_ids):\n",
    "        # divide each category with 70% training, 20% val, 10% testing\n",
    "        n_imgs = len(category_images[id_index])\n",
    "        n_train = int(np.floor(n_imgs * split[0]))\n",
    "        n_val = int(np.floor(n_imgs * split[1]))\n",
    "        n_test = int(n_imgs - n_train - n_val)\n",
    "\n",
    "        # shuffle images\n",
    "        shuffled_imgs = random.sample(category_images[id_index], n_imgs)\n",
    "\n",
    "        train_uec256.append(shuffled_imgs[:n_train])  # not including the last one\n",
    "        val_uec256.append(shuffled_imgs[n_train:n_train + n_val])\n",
    "        test_uec256.append(shuffled_imgs[n_train + n_val:])\n",
    "\n",
    "    all_train_list = list(np.unique(list(itertools.chain(*train_uec256))))\n",
    "    all_val_list = list(np.unique(list(itertools.chain(*val_uec256))))\n",
    "    all_test_list = list(np.unique(list(itertools.chain(*test_uec256))))\n",
    "\n",
    "    # Pop out element in training set if it's in testing or val also\n",
    "    i = 0\n",
    "    while i < len(all_train_list):  # give priority to val and test over train\n",
    "        if all_train_list[i] in all_val_list:  # training sample is in val set too\n",
    "            all_train_list.pop(i)\n",
    "        elif all_train_list[i] in all_test_list:  # training sample is in test set too\n",
    "            all_train_list.pop(i)\n",
    "        else:\n",
    "            i += 1\n",
    "\n",
    "    # Pop out element in testing set if it's in val also\n",
    "    i = 0\n",
    "    while i < len(all_test_list):  # give priority to val over test\n",
    "        if all_test_list[i] in all_val_list:  # test sample is in val set too\n",
    "            all_test_list.pop(i)\n",
    "        else:\n",
    "            i += 1\n",
    "\n",
    "    \"\"\" Split bounding box with train, val, test sets \"\"\"\n",
    "    imgs_format = 'jpg'\n",
    "    file = open(uecfood256_path + '/classes.txt', 'w')\n",
    "    for c in category_names:\n",
    "        file.write(c + '\\n')\n",
    "    file.close()\n",
    "\n",
    "    # Training set\n",
    "    file = open(uecfood256_path + '/' + files_generated[0], 'w')\n",
    "    file.write('img category_id x1 y1 x2 y2\\n')  # header\n",
    "    for img in all_train_list:\n",
    "        # it is possible that one image in several categories\n",
    "        occurrences = []\n",
    "        for id_index, id in enumerate(category_ids):\n",
    "            occ = [[uecfood256_path + '/' + str(id) + '/' + img + '.' + imgs_format, str(id)] +\n",
    "                   category_bbox[id_index][i] for i, elem in enumerate(category_images[id_index]) if elem == img]\n",
    "            occurrences += occ\n",
    "\n",
    "        for occ in occurrences:\n",
    "            img_path = occ[0]\n",
    "            img_category = occ[1]\n",
    "            img_bbox = str(occ[2]) + ' ' + str(occ[3]) + ' ' + str(occ[4]) + ' ' + str(occ[5])\n",
    "            file.write(img_path + ' ' + img_category + ' ' + img_bbox + '\\n')\n",
    "    file.close()\n",
    "\n",
    "    # Val set\n",
    "    file = open(uecfood256_path + '/' + files_generated[1], 'w')\n",
    "    file.write('img category_id x1 y1 x2 y2\\n')  # header\n",
    "    for img in all_train_list:\n",
    "        # it is possible that one image in several categories\n",
    "        occurrences = []\n",
    "        for id_index, id in enumerate(category_ids):\n",
    "            occ = [[uecfood256_path + '/' + str(id) + '/' + img + '.' + imgs_format, str(id)] +\n",
    "                   category_bbox[id_index][i] for i, elem in enumerate(category_images[id_index]) if elem == img]\n",
    "            occurrences += occ\n",
    "\n",
    "        for occ in occurrences:\n",
    "            img_path = occ[0]\n",
    "            img_category = occ[1]\n",
    "            img_bbox = str(occ[2]) + ' ' + str(occ[3]) + ' ' + str(occ[4]) + ' ' + str(occ[5])\n",
    "            file.write(img_path + ' ' + img_category + ' ' + img_bbox + '\\n')\n",
    "    file.close()\n",
    "\n",
    "    # Testing set\n",
    "    file = open(uecfood256_path + '/' + files_generated[2], 'w')\n",
    "    file.write('img category_id x1 y1 x2 y2\\n')  # header\n",
    "    for img in all_train_list:\n",
    "        # it is possible that one image in several categories\n",
    "        occurrences = []\n",
    "        for id_index, id in enumerate(category_ids):\n",
    "            occ = [[uecfood256_path + '/' + str(id) + '/' + img + '.' + imgs_format, str(id)] +\n",
    "                   category_bbox[id_index][i] for i, elem in enumerate(category_images[id_index]) if elem == img]\n",
    "            occurrences += occ\n",
    "\n",
    "        for occ in occurrences:\n",
    "            img_path = occ[0]\n",
    "            img_category = occ[1]\n",
    "            img_bbox = str(occ[2]) + ' ' + str(occ[3]) + ' ' + str(occ[4]) + ' ' + str(occ[5])\n",
    "            file.write(img_path + ' ' + img_category + ' ' + img_bbox + '\\n')\n",
    "    file.close()\n",
    "\n",
    "    print('Done!')"
   ]
  },
  {
   "cell_type": "code",
   "execution_count": 8,
   "metadata": {},
   "outputs": [
    {
     "name": "stdout",
     "output_type": "stream",
     "text": [
      "Done!\n"
     ]
    }
   ],
   "source": [
    "split_dataset()"
   ]
  },
  {
   "cell_type": "markdown",
   "metadata": {},
   "source": [
    "**The generated txt file should like this: **   \n",
    "img category_id x1 y1 x2 y2   \n",
    "/Volumes/JS/UECFOOD256/UECFOOD256/1/1.jpg 1 0.0 143.0 370.0 486.0\n",
    "/Volumes/JS/UECFOOD256/UECFOOD256/42/1.jpg 42 363.0 91.0 800.0 560.0\n",
    "/Volumes/JS/UECFOOD256/UECFOOD256/2/100.jpg 2 23.0 0.0 293.0 227.0\n",
    "/Volumes/JS/UECFOOD256/UECFOOD256/11/1000.jpg 11 11.0 6.0 236.0 203.0\n",
    "/Volumes/JS/UECFOOD256/UECFOOD256/137/100031.jpg 137 16.0 30.0 456.0 325.0\n",
    "/Volumes/JS/UECFOOD256/UECFOOD256/137/100060.jpg 137 45.0 28.0 488.0 399.0\n",
    "/Volumes/JS/UECFOOD256/UECFOOD256/137/100085.jpg 137 56.0 61.0 496.0 383.0\n",
    "/Volumes/JS/UECFOOD256/UECFOOD256/11/1001.jpg 11 19.0 13.0 231.0 192.0\n",
    "/Volumes/JS/UECFOOD256/UECFOOD256/153/100125.jpg 153 21.0 18.0 590.0 375.0\n",
    "/Volumes/JS/UECFOOD256/UECFOOD256/155/100163.jpg 155 20.0 37.0 484.0 481.0\n",
    "/Volumes/JS/UECFOOD256/UECFOOD256/153/100169.jpg 153 16.0 46.0 502.0 467.0\n",
    "/Volumes/JS/UECFOOD256/UECFOOD256/123/100208.jpg 123 3.0 8.0 302.0 319.0\n",
    "/Volumes/JS/UECFOOD256/UECFOOD256/155/100225.jpg 155 45.0 39.0 475.0 435.0\n",
    "/Volumes/JS/UECFOOD256/UECFOOD256/155/100238.jpg 155 35.0 93.0 456.0 475.0"
   ]
  },
  {
   "cell_type": "code",
   "execution_count": null,
   "metadata": {
    "collapsed": true
   },
   "outputs": [],
   "source": []
  }
 ],
 "metadata": {
  "kernelspec": {
   "display_name": "Python 3",
   "language": "python",
   "name": "python3"
  },
  "language_info": {
   "codemirror_mode": {
    "name": "ipython",
    "version": 3
   },
   "file_extension": ".py",
   "mimetype": "text/x-python",
   "name": "python",
   "nbconvert_exporter": "python",
   "pygments_lexer": "ipython3",
   "version": "3.6.4"
  }
 },
 "nbformat": 4,
 "nbformat_minor": 2
}
