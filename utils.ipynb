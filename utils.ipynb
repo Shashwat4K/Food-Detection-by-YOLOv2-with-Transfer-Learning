{
 "cells": [
  {
   "cell_type": "markdown",
   "metadata": {},
   "source": [
    "# utils for aws"
   ]
  },
  {
   "cell_type": "markdown",
   "metadata": {},
   "source": [
    "- Recently when I try to save the .npz file with images and bbox info, my laptop memory will out of range (MacOS 16GB), then I try to use AWS free tier visual machine, whilt it is running now I'm gonna to write down basic upload and setup command in terminal about how to use AWS.\n",
    "    - After launching a VM instance in AWS and downloading the .pem key file, connect with your instance:   \n",
    "    `chmod 400 jsaws.pem`   \n",
    "    `ssh -i \"jsaws.pem\" root@ec2-18-217-99-138.us-east-2.compute.amazonaws.com`   (replace root with your aws address)\n",
    "    - Upload your python file along with dataset to your visual machine:\n",
    "        - Upload single file (ex. py file):  \n",
    "        `scp-i <path-to-your-.pem key> <path-to-the-file> ec2-user@ec2-18-217-99-138.us-east-2.compute.amazonaws.com`:src\n",
    "        - Upload whole folder:  \n",
    "        `scp-i <path-to-your-.pem key> -r <path-to-the-directory> ec2-user@ec2-18-217-99-138.us-east-2.compute.amazonaws.com`:src"
   ]
  },
  {
   "cell_type": "code",
   "execution_count": 3,
   "metadata": {
    "collapsed": true
   },
   "outputs": [],
   "source": [
    "def txt2aws(traintxtpath, newpath):\n",
    "    new_line = []\n",
    "    with open(traintxtpath, 'r') as orig:\n",
    "        for i, line in enumerate(orig):\n",
    "            if i > 0:\n",
    "                line = line.rstrip('\\n')\n",
    "                line = line.split(' ')\n",
    "                line[0] = line[0].replace('/Volumes/JS', '.')\n",
    "                new_line.append(line)\n",
    "    with open(newpath, 'w') as new:\n",
    "        new.write('img category_id x1 y1 x2 y2\\n')\n",
    "        for line in new_line:\n",
    "            new.write(' '.join([str(x) for x in line]) + '\\n')\n",
    "    print('Done!')"
   ]
  },
  {
   "cell_type": "code",
   "execution_count": 4,
   "metadata": {},
   "outputs": [
    {
     "name": "stdout",
     "output_type": "stream",
     "text": [
      "Done!\n"
     ]
    }
   ],
   "source": [
    "my_dataset_disk = '/Volumes/JS/UECFOOD100_JS'\n",
    "traintxtpath = my_dataset_disk + '/train_uec100.txt'\n",
    "newpath = my_dataset_disk + '/train_uec100_aws.txt'\n",
    "txt2aws(traintxtpath, newpath)"
   ]
  }
 ],
 "metadata": {
  "kernelspec": {
   "display_name": "Python 3",
   "language": "python",
   "name": "python3"
  },
  "language_info": {
   "codemirror_mode": {
    "name": "ipython",
    "version": 3
   },
   "file_extension": ".py",
   "mimetype": "text/x-python",
   "name": "python",
   "nbconvert_exporter": "python",
   "pygments_lexer": "ipython3",
   "version": "3.6.4"
  }
 },
 "nbformat": 4,
 "nbformat_minor": 2
}
